{
 "cells": [
  {
   "cell_type": "code",
   "execution_count": 1,
   "metadata": {},
   "outputs": [
    {
     "name": "stderr",
     "output_type": "stream",
     "text": [
      "/home/deeplearner/anaconda3/lib/python3.6/site-packages/pandas_datareader/compat/__init__.py:7: FutureWarning: pandas.util.testing is deprecated. Use the functions in the public API at pandas.testing instead.\n",
      "  from pandas.util.testing import assert_frame_equal\n"
     ]
    }
   ],
   "source": [
    "import numpy as np\n",
    "import datetime\n",
    "import pandas as pd\n",
    "import yfinance as yf\n",
    "import yahoofinancials\n",
    "import matplotlib.pyplot as plt\n",
    "import pandas_datareader as pdr \n"
   ]
  },
  {
   "cell_type": "markdown",
   "metadata": {},
   "source": [
    "# Measuring returns of Axis Bank and ICICI Bank  with respect to NIFTY 50 using Sharpe Ratio, Treynor Ratio and Jenson's Alpha"
   ]
  },
  {
   "cell_type": "markdown",
   "metadata": {},
   "source": [
    "<b>The last five year data has been taken for performance mesurement"
   ]
  },
  {
   "cell_type": "code",
   "execution_count": 129,
   "metadata": {},
   "outputs": [],
   "source": [
    "data1 = pdr.get_data_yahoo('^NSEI', datetime.date.today() - datetime.timedelta(1825),datetime.date.today())\n",
    "data2 = pdr.get_data_yahoo('ICICIBANK.NS', datetime.date.today() - datetime.timedelta(1825),datetime.date.today())\n",
    "\n",
    "data = pdr.get_data_yahoo('AXISBANK.NS', datetime.date.today() - datetime.timedelta(1825),datetime.date.today())\n",
    "#data['nyfty'] = pdr.get_data_yahoo('^NSEI['Adj Close']', datetime.date.today() - datetime.timedelta(365),datetime.date.today())\n",
    "data['Axis_Adj Close'] = data['Adj Close']\n",
    "data['ICICI_Adj Close'] = data2['Adj Close']\n",
    "data['Nifty_Adj Close'] = data1['Adj Close']\n",
    "\n",
    "data['return_axis'] = ((data['Adj Close'] - data['Adj Close'].shift(1))/data['Adj Close'].shift(1))*100\n",
    "data['return_icici'] = ((data['ICICI_Adj Close'] - data['ICICI_Adj Close'].shift(1))/data['ICICI_Adj Close'].shift(1))*100\n",
    "data['return_nifty'] = ((data['Nifty_Adj Close'] - data['Nifty_Adj Close'].shift(1))/data['Nifty_Adj Close'].shift(1))*100\n",
    "data.drop(['High', 'Low', 'Open', 'Close', 'Volume', 'Adj Close'], axis = 1, inplace = True)\n",
    "data.fillna(0, inplace = True)\n",
    "\n",
    "# data['return_sqr'] = data['return']**2\n",
    "# data['return_nifty_sqr'] = data['return_nifty']\n",
    "\n",
    "#df['return_sum'] = df['return'] "
   ]
  },
  {
   "cell_type": "code",
   "execution_count": 130,
   "metadata": {},
   "outputs": [
    {
     "data": {
      "text/html": [
       "<div>\n",
       "<style scoped>\n",
       "    .dataframe tbody tr th:only-of-type {\n",
       "        vertical-align: middle;\n",
       "    }\n",
       "\n",
       "    .dataframe tbody tr th {\n",
       "        vertical-align: top;\n",
       "    }\n",
       "\n",
       "    .dataframe thead th {\n",
       "        text-align: right;\n",
       "    }\n",
       "</style>\n",
       "<table border=\"1\" class=\"dataframe\">\n",
       "  <thead>\n",
       "    <tr style=\"text-align: right;\">\n",
       "      <th></th>\n",
       "      <th>Axis_Adj Close</th>\n",
       "      <th>ICICI_Adj Close</th>\n",
       "      <th>Nifty_Adj Close</th>\n",
       "      <th>return_axis</th>\n",
       "      <th>return_icici</th>\n",
       "      <th>return_nifty</th>\n",
       "    </tr>\n",
       "    <tr>\n",
       "      <th>Date</th>\n",
       "      <th></th>\n",
       "      <th></th>\n",
       "      <th></th>\n",
       "      <th></th>\n",
       "      <th></th>\n",
       "      <th></th>\n",
       "    </tr>\n",
       "  </thead>\n",
       "  <tbody>\n",
       "    <tr>\n",
       "      <th>2015-06-08</th>\n",
       "      <td>538.133850</td>\n",
       "      <td>242.609039</td>\n",
       "      <td>8044.149902</td>\n",
       "      <td>0.000000</td>\n",
       "      <td>0.000000</td>\n",
       "      <td>0.000000</td>\n",
       "    </tr>\n",
       "    <tr>\n",
       "      <th>2015-06-09</th>\n",
       "      <td>543.091492</td>\n",
       "      <td>245.993546</td>\n",
       "      <td>8022.399902</td>\n",
       "      <td>0.921266</td>\n",
       "      <td>1.395045</td>\n",
       "      <td>-0.270383</td>\n",
       "    </tr>\n",
       "    <tr>\n",
       "      <th>2015-06-10</th>\n",
       "      <td>548.729431</td>\n",
       "      <td>250.620377</td>\n",
       "      <td>8124.450195</td>\n",
       "      <td>1.038120</td>\n",
       "      <td>1.880875</td>\n",
       "      <td>1.272067</td>\n",
       "    </tr>\n",
       "    <tr>\n",
       "      <th>2015-06-11</th>\n",
       "      <td>531.475281</td>\n",
       "      <td>247.193405</td>\n",
       "      <td>7965.350098</td>\n",
       "      <td>-3.144382</td>\n",
       "      <td>-1.367395</td>\n",
       "      <td>-1.958288</td>\n",
       "    </tr>\n",
       "    <tr>\n",
       "      <th>2015-06-12</th>\n",
       "      <td>536.043945</td>\n",
       "      <td>253.576019</td>\n",
       "      <td>7982.899902</td>\n",
       "      <td>0.859619</td>\n",
       "      <td>2.582033</td>\n",
       "      <td>0.220327</td>\n",
       "    </tr>\n",
       "  </tbody>\n",
       "</table>\n",
       "</div>"
      ],
      "text/plain": [
       "            Axis_Adj Close  ICICI_Adj Close  Nifty_Adj Close  return_axis  \\\n",
       "Date                                                                        \n",
       "2015-06-08      538.133850       242.609039      8044.149902     0.000000   \n",
       "2015-06-09      543.091492       245.993546      8022.399902     0.921266   \n",
       "2015-06-10      548.729431       250.620377      8124.450195     1.038120   \n",
       "2015-06-11      531.475281       247.193405      7965.350098    -3.144382   \n",
       "2015-06-12      536.043945       253.576019      7982.899902     0.859619   \n",
       "\n",
       "            return_icici  return_nifty  \n",
       "Date                                    \n",
       "2015-06-08      0.000000      0.000000  \n",
       "2015-06-09      1.395045     -0.270383  \n",
       "2015-06-10      1.880875      1.272067  \n",
       "2015-06-11     -1.367395     -1.958288  \n",
       "2015-06-12      2.582033      0.220327  "
      ]
     },
     "execution_count": 130,
     "metadata": {},
     "output_type": "execute_result"
    }
   ],
   "source": [
    "data.head()"
   ]
  },
  {
   "cell_type": "code",
   "execution_count": 187,
   "metadata": {},
   "outputs": [
    {
     "name": "stdout",
     "output_type": "stream",
     "text": [
      "return of Axis:  0.003746408138076493\n",
      "return of ICICI:  0.056539017470286924\n",
      "return of NIFTY 50:  0.027910653037780127\n"
     ]
    }
   ],
   "source": [
    "return_axis_mean = data['return_axis'].mean()\n",
    "print(\"return of Axis: \", return_axis_mean)\n",
    "return_icici_mean = data['return_icici'].mean()\n",
    "print(\"return of ICICI: \", return_icici_mean)\n",
    "return_nifty_mean = data['return_nifty'].mean()\n",
    "print(\"return of NIFTY 50: \", return_nifty_mean)"
   ]
  },
  {
   "cell_type": "code",
   "execution_count": 201,
   "metadata": {},
   "outputs": [
    {
     "data": {
      "image/png": "[encoded data removed]",
      "text/plain": [
       "<Figure size 432x288 with 1 Axes>"
      ]
     },
     "metadata": {
      "needs_background": "light"
     },
     "output_type": "display_data"
    },
    {
     "data": {
      "image/png": "[encoded data removed]",
      "text/plain": [
       "<Figure size 864x288 with 3 Axes>"
      ]
     },
     "metadata": {
      "needs_background": "light"
     },
     "output_type": "display_data"
    }
   ],
   "source": [
    "plt.plot(data['return_axis'])\n",
    "plt.plot(data['return_icici'])\n",
    "plt.plot(data['return_nifty'])\n",
    "plt.legend()\n",
    "#fig = plt.figure()\n",
    "fig, axes = plt.subplots(1, 3, figsize = (12, 4))\n",
    "axes[0].plot(data['return_axis'], color = 'b')\n",
    "axes[1].plot(data['return_icici'], color = 'g')\n",
    "axes[2].plot(data['return_nifty'], color = 'r')\n",
    "axes[0].set_title(\"Axis Bank Return\", color = 'b')\n",
    "axes[1].set_title(\"ICICI Bank Return\", color = 'g')\n",
    "axes[2].set_title(\"NIFTY 50 Return\", color = 'r')\n",
    "plt.show()"
   ]
  },
  {
   "cell_type": "markdown",
   "metadata": {},
   "source": [
    "Avg. return of ICICI Bank is higher than the NIFTY 50 whereas Avg. return of Axis Bank is lower than NIFTY 50. From the graph, we can see that the trend is same but risk return varies."
   ]
  },
  {
   "cell_type": "code",
   "execution_count": 169,
   "metadata": {},
   "outputs": [],
   "source": [
    "data['mean_return_axis'] = (data['return_axis'] - data['return_axis'].mean())\n",
    "data['mean_return_icici'] = (data['return_icici'] - data['return_icici'].mean())\n",
    "data['mean_return_nifty'] = (data['return_nifty'] -  data['return_nifty'].mean())"
   ]
  },
  {
   "cell_type": "code",
   "execution_count": 174,
   "metadata": {},
   "outputs": [
    {
     "data": {
      "text/html": [
       "<div>\n",
       "<style scoped>\n",
       "    .dataframe tbody tr th:only-of-type {\n",
       "        vertical-align: middle;\n",
       "    }\n",
       "\n",
       "    .dataframe tbody tr th {\n",
       "        vertical-align: top;\n",
       "    }\n",
       "\n",
       "    .dataframe thead th {\n",
       "        text-align: right;\n",
       "    }\n",
       "</style>\n",
       "<table border=\"1\" class=\"dataframe\">\n",
       "  <thead>\n",
       "    <tr style=\"text-align: right;\">\n",
       "      <th></th>\n",
       "      <th>Axis_Adj Close</th>\n",
       "      <th>ICICI_Adj Close</th>\n",
       "      <th>Nifty_Adj Close</th>\n",
       "      <th>return_axis</th>\n",
       "      <th>return_icici</th>\n",
       "      <th>return_nifty</th>\n",
       "      <th>mean_return_axis</th>\n",
       "      <th>mean_return_icici</th>\n",
       "      <th>mean_return_nifty</th>\n",
       "      <th>mean_return_nifty_sqr</th>\n",
       "      <th>cov_axis_nifty</th>\n",
       "      <th>cov_icici_nifty</th>\n",
       "    </tr>\n",
       "    <tr>\n",
       "      <th>Date</th>\n",
       "      <th></th>\n",
       "      <th></th>\n",
       "      <th></th>\n",
       "      <th></th>\n",
       "      <th></th>\n",
       "      <th></th>\n",
       "      <th></th>\n",
       "      <th></th>\n",
       "      <th></th>\n",
       "      <th></th>\n",
       "      <th></th>\n",
       "      <th></th>\n",
       "    </tr>\n",
       "  </thead>\n",
       "  <tbody>\n",
       "    <tr>\n",
       "      <th>2015-06-08</th>\n",
       "      <td>538.133850</td>\n",
       "      <td>242.609039</td>\n",
       "      <td>8044.149902</td>\n",
       "      <td>0.000000</td>\n",
       "      <td>0.000000</td>\n",
       "      <td>0.000000</td>\n",
       "      <td>-0.003746</td>\n",
       "      <td>-0.056539</td>\n",
       "      <td>-0.027911</td>\n",
       "      <td>0.000779</td>\n",
       "      <td>0.000105</td>\n",
       "      <td>0.001578</td>\n",
       "    </tr>\n",
       "    <tr>\n",
       "      <th>2015-06-09</th>\n",
       "      <td>543.091492</td>\n",
       "      <td>245.993546</td>\n",
       "      <td>8022.399902</td>\n",
       "      <td>0.921266</td>\n",
       "      <td>1.395045</td>\n",
       "      <td>-0.270383</td>\n",
       "      <td>0.917519</td>\n",
       "      <td>1.338506</td>\n",
       "      <td>-0.298293</td>\n",
       "      <td>0.088979</td>\n",
       "      <td>-0.273690</td>\n",
       "      <td>-0.399268</td>\n",
       "    </tr>\n",
       "    <tr>\n",
       "      <th>2015-06-10</th>\n",
       "      <td>548.729431</td>\n",
       "      <td>250.620377</td>\n",
       "      <td>8124.450195</td>\n",
       "      <td>1.038120</td>\n",
       "      <td>1.880875</td>\n",
       "      <td>1.272067</td>\n",
       "      <td>1.034373</td>\n",
       "      <td>1.824336</td>\n",
       "      <td>1.244156</td>\n",
       "      <td>1.547925</td>\n",
       "      <td>1.286922</td>\n",
       "      <td>2.269759</td>\n",
       "    </tr>\n",
       "    <tr>\n",
       "      <th>2015-06-11</th>\n",
       "      <td>531.475281</td>\n",
       "      <td>247.193405</td>\n",
       "      <td>7965.350098</td>\n",
       "      <td>-3.144382</td>\n",
       "      <td>-1.367395</td>\n",
       "      <td>-1.958288</td>\n",
       "      <td>-3.148129</td>\n",
       "      <td>-1.423934</td>\n",
       "      <td>-1.986198</td>\n",
       "      <td>3.944983</td>\n",
       "      <td>6.252807</td>\n",
       "      <td>2.828216</td>\n",
       "    </tr>\n",
       "    <tr>\n",
       "      <th>2015-06-12</th>\n",
       "      <td>536.043945</td>\n",
       "      <td>253.576019</td>\n",
       "      <td>7982.899902</td>\n",
       "      <td>0.859619</td>\n",
       "      <td>2.582033</td>\n",
       "      <td>0.220327</td>\n",
       "      <td>0.855873</td>\n",
       "      <td>2.525494</td>\n",
       "      <td>0.192416</td>\n",
       "      <td>0.037024</td>\n",
       "      <td>0.164684</td>\n",
       "      <td>0.485946</td>\n",
       "    </tr>\n",
       "  </tbody>\n",
       "</table>\n",
       "</div>"
      ],
      "text/plain": [
       "            Axis_Adj Close  ICICI_Adj Close  Nifty_Adj Close  return_axis  \\\n",
       "Date                                                                        \n",
       "2015-06-08      538.133850       242.609039      8044.149902     0.000000   \n",
       "2015-06-09      543.091492       245.993546      8022.399902     0.921266   \n",
       "2015-06-10      548.729431       250.620377      8124.450195     1.038120   \n",
       "2015-06-11      531.475281       247.193405      7965.350098    -3.144382   \n",
       "2015-06-12      536.043945       253.576019      7982.899902     0.859619   \n",
       "\n",
       "            return_icici  return_nifty  mean_return_axis  mean_return_icici  \\\n",
       "Date                                                                          \n",
       "2015-06-08      0.000000      0.000000         -0.003746          -0.056539   \n",
       "2015-06-09      1.395045     -0.270383          0.917519           1.338506   \n",
       "2015-06-10      1.880875      1.272067          1.034373           1.824336   \n",
       "2015-06-11     -1.367395     -1.958288         -3.148129          -1.423934   \n",
       "2015-06-12      2.582033      0.220327          0.855873           2.525494   \n",
       "\n",
       "            mean_return_nifty  mean_return_nifty_sqr  cov_axis_nifty  \\\n",
       "Date                                                                   \n",
       "2015-06-08          -0.027911               0.000779        0.000105   \n",
       "2015-06-09          -0.298293               0.088979       -0.273690   \n",
       "2015-06-10           1.244156               1.547925        1.286922   \n",
       "2015-06-11          -1.986198               3.944983        6.252807   \n",
       "2015-06-12           0.192416               0.037024        0.164684   \n",
       "\n",
       "            cov_icici_nifty  \n",
       "Date                         \n",
       "2015-06-08         0.001578  \n",
       "2015-06-09        -0.399268  \n",
       "2015-06-10         2.269759  \n",
       "2015-06-11         2.828216  \n",
       "2015-06-12         0.485946  "
      ]
     },
     "execution_count": 174,
     "metadata": {},
     "output_type": "execute_result"
    }
   ],
   "source": [
    "data.head()"
   ]
  },
  {
   "cell_type": "code",
   "execution_count": 178,
   "metadata": {},
   "outputs": [
    {
     "name": "stdout",
     "output_type": "stream",
     "text": [
      "Value of covariance for axis:  1.8739272377578837\n",
      "Value of covariance for icic:  1.875990175974752\n"
     ]
    }
   ],
   "source": [
    "data['cov_axis_nifty'] = (data['mean_return_axis']*data['mean_return_nifty'])\n",
    "data['cov_icici_nifty'] = (data['mean_return_icici']*data['mean_return_nifty'])\n",
    "covariance_axis = ((data['cov_axis_nifty'].sum())/(data.shape[0]))\n",
    "covariance_icici = ((data['cov_icici_nifty'].sum())/(data.shape[0]))\n",
    "print(\"Value of covariance for axis: \", covariance_axis)\n",
    "print(\"Value of covariance for icic: \", covariance_icici)\n",
    "                    "
   ]
  },
  {
   "cell_type": "code",
   "execution_count": 179,
   "metadata": {},
   "outputs": [
    {
     "name": "stdout",
     "output_type": "stream",
     "text": [
      "Value of variance for NIFTY 50:  1.3087323942634583\n"
     ]
    }
   ],
   "source": [
    "data['mean_return_nifty_sqr'] = data['mean_return_nifty']**2\n",
    "mean_return_nifty_sqr_sum = data['mean_return_nifty_sqr'].sum()\n",
    "#print(mean_return_nifty_sqr_sum)\n",
    "variance = data['mean_return_nifty_sqr'].sum()/(data.shape[0])\n",
    "print(\"Value of variance for NIFTY 50: \", variance)"
   ]
  },
  {
   "cell_type": "code",
   "execution_count": 180,
   "metadata": {},
   "outputs": [
    {
     "name": "stdout",
     "output_type": "stream",
     "text": [
      "1.431864333741438\n",
      "1.4334406210144592\n"
     ]
    }
   ],
   "source": [
    "beta_axis = covarience_axis/varience\n",
    "beta_icici = covarience_icici/varience\n",
    "print(beta_axis)\n",
    "print(beta_icici)"
   ]
  },
  {
   "cell_type": "markdown",
   "metadata": {},
   "source": [
    "Beta shows the risk assiciated with both the banks are higher than the market i.e both the stocks are more voletile than the market."
   ]
  },
  {
   "cell_type": "code",
   "execution_count": 181,
   "metadata": {},
   "outputs": [
    {
     "name": "stdout",
     "output_type": "stream",
     "text": [
      "0.09374394347242168\n",
      "1.413183479289746\n"
     ]
    }
   ],
   "source": [
    "alpha_axis = (data['return_axis'].mean())/(beta_axis*data['return_nifty'].mean())\n",
    "alpha_icici = (data['return_icici'].mean())/(beta_icici*data['return_nifty'].mean())\n",
    "print(alpha_axis)\n",
    "print(alpha_icici)"
   ]
  },
  {
   "cell_type": "markdown",
   "metadata": {},
   "source": [
    "Alpha is a measure of perforance of an investment. It shows the excess return from an investment as compared to its benchmark. Thus, according to the above  calculated figures the excess return of ICICI Bank is way higher than Axis Bank. "
   ]
  },
  {
   "cell_type": "code",
   "execution_count": 182,
   "metadata": {},
   "outputs": [],
   "source": [
    "Rf = 0.078"
   ]
  },
  {
   "cell_type": "code",
   "execution_count": 183,
   "metadata": {},
   "outputs": [
    {
     "name": "stdout",
     "output_type": "stream",
     "text": [
      "-0.048671466306887796\n",
      "-0.007539099569704213\n"
     ]
    }
   ],
   "source": [
    "sharpe_index_axis = (data['return_axis'].mean()-Rf)/(alpha_axis+beta_axis)\n",
    "sharpe_index_icici = (data['return_icici'].mean()-Rf)/(alpha_icici+beta_icici)\n",
    "print(sharpe_index_axis)\n",
    "print(sharpe_index_icici)"
   ]
  },
  {
   "cell_type": "markdown",
   "metadata": {},
   "source": [
    "The Sharpe ratio is simply the risk premium per unit of risk, which is quantified by the total risk of the portfolio. Both the stocks have negative ratio means return per unit risk is low."
   ]
  },
  {
   "cell_type": "code",
   "execution_count": 185,
   "metadata": {},
   "outputs": [
    {
     "name": "stdout",
     "output_type": "stream",
     "text": [
      "-0.012577126366860092\n",
      "1.3824204351647735\n"
     ]
    }
   ],
   "source": [
    "jenson_Index_axis = alpha_axis+(beta_axis*(data['return_axis'].mean() - Rf))\n",
    "jenson_Index_icici =  alpha_icici+(beta_icici*(data['return_icici'].mean() - Rf))\n",
    "print(jenson_Index_axis)\n",
    "print(jenson_Index_icici)"
   ]
  },
  {
   "cell_type": "markdown",
   "metadata": {},
   "source": [
    "Jenson's Alpha determines the amount of the return which is due to market volatility as measured by the firm's beta in relation to the market beta. Again the ICICI return is much more higher than Axis Bank."
   ]
  },
  {
   "cell_type": "markdown",
   "metadata": {},
   "source": [
    "#### Keynote : The measurement has been done with the current market risk free rate. The measurement could have been somewhat different with prevailing risk-free rate.  "
   ]
  },
  {
   "cell_type": "markdown",
   "metadata": {},
   "source": [
    "<b>Therefore it is clear that the investor investing in ICICI will get more return with the same level of risk. "
   ]
  }
 ],
 "metadata": {
  "kernelspec": {
   "display_name": "Python 3",
   "language": "python",
   "name": "python3"
  },
  "language_info": {
   "codemirror_mode": {
    "name": "ipython",
    "version": 3
   },
   "file_extension": ".py",
   "mimetype": "text/x-python",
   "name": "python",
   "nbconvert_exporter": "python",
   "pygments_lexer": "ipython3",
   "version": "3.6.6"
  }
 },
 "nbformat": 4,
 "nbformat_minor": 2
}
